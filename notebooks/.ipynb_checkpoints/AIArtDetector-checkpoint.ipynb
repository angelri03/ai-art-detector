{
 "cells": [
  {
   "cell_type": "markdown",
   "id": "0c66190b",
   "metadata": {},
   "source": [
    "# AI Art Detector - Binary Image Classifier"
   ]
  },
  {
   "cell_type": "markdown",
   "id": "32bc607c",
   "metadata": {},
   "source": [
    "Import Libraries"
   ]
  },
  {
   "cell_type": "code",
   "execution_count": 24,
   "id": "4a698723",
   "metadata": {},
   "outputs": [],
   "source": [
    "import matplotlib.pyplot as plt\n",
    "import numpy as np\n",
    "import os\n",
    "from PIL import Image\n",
    "import pandas as pd\n",
    "from tqdm import tqdm\n",
    "import torch\n",
    "import torch.optim as optim\n",
    "import torch.nn as nn\n",
    "import torchvision.transforms as transforms\n",
    "from torch.utils.data import Dataset, DataLoader, random_split\n",
    "from torchsummary import summary"
   ]
  },
  {
   "cell_type": "markdown",
   "id": "e44f123d",
   "metadata": {},
   "source": [
    "Loading Dataset"
   ]
  },
  {
   "cell_type": "code",
   "execution_count": 2,
   "id": "bc6b9141",
   "metadata": {},
   "outputs": [],
   "source": [
    "# dataset class handles custom dataset\n",
    "class ArtDataset(Dataset):\n",
    "    def __init__(self, data_path, df, transform=None):\n",
    "        self.data_path = data_path\n",
    "        self.transform = transform\n",
    "        \n",
    "        # extracts image paths and labels from csv file\n",
    "        self.img_path = df.iloc[:,0].tolist()\n",
    "        self.img_label = df.iloc[:,1].tolist()\n",
    "    \n",
    "    def __len__(self):\n",
    "        return len(self.img_label)\n",
    "\n",
    "    def __getitem__(self, idx):\n",
    "        # retrieve file name and label for given index\n",
    "        file_name = self.img_path[idx]\n",
    "        label = self.img_label[idx]\n",
    "\n",
    "        # open image (removes corrupted files)\n",
    "        img = Image.open(os.path.join(self.data_path, file_name))\n",
    "\n",
    "        # apply transformations\n",
    "        if self.transform:\n",
    "            img = self.transform(img)\n",
    "\n",
    "        # return image and label as tuple\n",
    "        return img, label"
   ]
  },
  {
   "cell_type": "code",
   "execution_count": 3,
   "id": "d19a77b7",
   "metadata": {},
   "outputs": [
    {
     "name": "stdout",
     "output_type": "stream",
     "text": [
      "length of dataset: 8678\n"
     ]
    }
   ],
   "source": [
    "# define image transformations\n",
    "interpolation_mode = transforms.InterpolationMode.BICUBIC\n",
    "resize_transform = transforms.Resize((50,50), interpolation=interpolation_mode)\n",
    "transform = transforms.Compose([\n",
    "                            resize_transform,\n",
    "                            transforms.Grayscale(num_output_channels=1),\n",
    "                            transforms.ToTensor(),\n",
    "                            transforms.Normalize((0.5,), (0.5,)),\n",
    "                        ])\n",
    "    \n",
    "data_path= 'ArtDataset/'\n",
    "file_path = 'img_data.csv'\n",
    "\n",
    "# read the csv file into dataframe\n",
    "img_data = pd.read_csv(file_path)\n",
    "\n",
    "# create instance of dataset\n",
    "full_dataset = ArtDataset(data_path=data_path, df=img_data, transform=transform)\n",
    "\n",
    "# length of dataset after processing\n",
    "print(\"length of dataset:\", full_dataset.__len__())"
   ]
  },
  {
   "cell_type": "code",
   "execution_count": 4,
   "id": "dc006067",
   "metadata": {},
   "outputs": [],
   "source": [
    "# define train and test ratio\n",
    "train_ratio = 0.80\n",
    "test_ratio = 1.0 - train_ratio\n",
    "\n",
    "# calculate amount of samples\n",
    "all_data = len(full_dataset)\n",
    "train_data = int(train_ratio * all_data)\n",
    "test_data = all_data - train_data\n",
    "\n",
    "# randomly split into train and test dataset\n",
    "train_dataset, test_dataset = random_split(full_dataset, [train_data, test_data])\n",
    "\n",
    "# create dataloader instances, shuffles during each epoch/evalution\n",
    "batch_size = 32\n",
    "train_loader = DataLoader(train_dataset, batch_size=batch_size, shuffle=True)\n",
    "test_loader = DataLoader(test_dataset, batch_size=batch_size, shuffle=True)"
   ]
  },
  {
   "cell_type": "code",
   "execution_count": 5,
   "id": "4de6deb3",
   "metadata": {},
   "outputs": [
    {
     "name": "stdout",
     "output_type": "stream",
     "text": [
      "training images: 6942\n",
      "testing images: 1736\n"
     ]
    }
   ],
   "source": [
    "# length of datasets after splitting\n",
    "print(\"training images:\", len(train_dataset))\n",
    "print(\"testing images:\", len(test_dataset))"
   ]
  },
  {
   "cell_type": "code",
   "execution_count": 6,
   "id": "6791e330",
   "metadata": {},
   "outputs": [
    {
     "data": {
      "image/png": "[encoded data removed]",
      "text/plain": [
       "<Figure size 640x480 with 1 Axes>"
      ]
     },
     "metadata": {},
     "output_type": "display_data"
    }
   ],
   "source": [
    "# shows random image from the train dataset\n",
    "images, labels = next(iter(train_loader))\n",
    "ex_img1 = images[10][0]\n",
    "\n",
    "plt.imshow(ex_img1.numpy())\n",
    "plt.axis('off')\n",
    "plt.show()"
   ]
  },
  {
   "cell_type": "markdown",
   "id": "634b27d5",
   "metadata": {},
   "source": [
    "CNN"
   ]
  },
  {
   "cell_type": "code",
   "execution_count": 7,
   "id": "e434fac4",
   "metadata": {},
   "outputs": [],
   "source": [
    "class Net(nn.Module):\n",
    "    def __init__(self):\n",
    "        super().__init__()\n",
    "        \n",
    "        # convolutional layers\n",
    "        self.conv = nn.Sequential(\n",
    "            nn.Conv2d(1, 32, 3, 1, 2),\n",
    "            nn.MaxPool2d(2, 2),\n",
    "            nn.ReLU(),\n",
    "            \n",
    "            nn.BatchNorm2d(32),\n",
    "            nn.Conv2d(32, 64, 3, 1, 2),\n",
    "            nn.MaxPool2d(2, 2),\n",
    "            nn.ReLU(),\n",
    "    \n",
    "            nn.BatchNorm2d(64),\n",
    "            nn.Conv2d(64, 128, 3, 1, 2),\n",
    "            nn.MaxPool2d(2, 2),\n",
    "            nn.ReLU(),\n",
    "            \n",
    "            nn.BatchNorm2d(128),\n",
    "            nn.Conv2d(128, 256, 3, 1, 2),\n",
    "            nn.MaxPool2d(2, 2),\n",
    "            nn.ReLU(),\n",
    "        \n",
    "            nn.BatchNorm2d(256),\n",
    "            nn.Conv2d(256, 512, 3, 1, 2),\n",
    "            nn.MaxPool2d(2, 2),\n",
    "            nn.ReLU(),\n",
    "        )\n",
    "\n",
    "        # fully connected layers\n",
    "        self.fc = nn.Sequential(\n",
    "            nn.Flatten(),\n",
    "            nn.Linear(512, 256),\n",
    "            nn.ReLU(),\n",
    "            nn.Linear(256, 1),\n",
    "            nn.Sigmoid() # for binary classification\n",
    "        )\n",
    "\n",
    "    def forward(self, x):\n",
    "        x = self.conv(x)\n",
    "        x = nn.functional.adaptive_avg_pool2d(x,(1,1))\n",
    "        x = x.view(x.size(0), -1) # flatten tensor\n",
    "        x = self.fc(x)\n",
    "\n",
    "        return x"
   ]
  },
  {
   "cell_type": "code",
   "execution_count": 25,
   "id": "1c747ae9",
   "metadata": {},
   "outputs": [
    {
     "name": "stdout",
     "output_type": "stream",
     "text": [
      "Net(\n",
      "  (conv): Sequential(\n",
      "    (0): Conv2d(1, 32, kernel_size=(3, 3), stride=(1, 1), padding=(2, 2))\n",
      "    (1): MaxPool2d(kernel_size=2, stride=2, padding=0, dilation=1, ceil_mode=False)\n",
      "    (2): ReLU()\n",
      "    (3): BatchNorm2d(32, eps=1e-05, momentum=0.1, affine=True, track_running_stats=True)\n",
      "    (4): Conv2d(32, 64, kernel_size=(3, 3), stride=(1, 1), padding=(2, 2))\n",
      "    (5): MaxPool2d(kernel_size=2, stride=2, padding=0, dilation=1, ceil_mode=False)\n",
      "    (6): ReLU()\n",
      "    (7): BatchNorm2d(64, eps=1e-05, momentum=0.1, affine=True, track_running_stats=True)\n",
      "    (8): Conv2d(64, 128, kernel_size=(3, 3), stride=(1, 1), padding=(2, 2))\n",
      "    (9): MaxPool2d(kernel_size=2, stride=2, padding=0, dilation=1, ceil_mode=False)\n",
      "    (10): ReLU()\n",
      "    (11): BatchNorm2d(128, eps=1e-05, momentum=0.1, affine=True, track_running_stats=True)\n",
      "    (12): Conv2d(128, 256, kernel_size=(3, 3), stride=(1, 1), padding=(2, 2))\n",
      "    (13): MaxPool2d(kernel_size=2, stride=2, padding=0, dilation=1, ceil_mode=False)\n",
      "    (14): ReLU()\n",
      "    (15): BatchNorm2d(256, eps=1e-05, momentum=0.1, affine=True, track_running_stats=True)\n",
      "    (16): Conv2d(256, 512, kernel_size=(3, 3), stride=(1, 1), padding=(2, 2))\n",
      "    (17): MaxPool2d(kernel_size=2, stride=2, padding=0, dilation=1, ceil_mode=False)\n",
      "    (18): ReLU()\n",
      "  )\n",
      "  (fc): Sequential(\n",
      "    (0): Flatten(start_dim=1, end_dim=-1)\n",
      "    (1): Linear(in_features=512, out_features=256, bias=True)\n",
      "    (2): ReLU()\n",
      "    (3): Linear(in_features=256, out_features=1, bias=True)\n",
      "    (4): Sigmoid()\n",
      "  )\n",
      ")\n",
      "----------------------------------------------------------------\n",
      "        Layer (type)               Output Shape         Param #\n",
      "================================================================\n",
      "            Conv2d-1           [-1, 32, 52, 52]             320\n",
      "         MaxPool2d-2           [-1, 32, 26, 26]               0\n",
      "              ReLU-3           [-1, 32, 26, 26]               0\n",
      "       BatchNorm2d-4           [-1, 32, 26, 26]              64\n",
      "            Conv2d-5           [-1, 64, 28, 28]          18,496\n",
      "         MaxPool2d-6           [-1, 64, 14, 14]               0\n",
      "              ReLU-7           [-1, 64, 14, 14]               0\n",
      "       BatchNorm2d-8           [-1, 64, 14, 14]             128\n",
      "            Conv2d-9          [-1, 128, 16, 16]          73,856\n",
      "        MaxPool2d-10            [-1, 128, 8, 8]               0\n",
      "             ReLU-11            [-1, 128, 8, 8]               0\n",
      "      BatchNorm2d-12            [-1, 128, 8, 8]             256\n",
      "           Conv2d-13          [-1, 256, 10, 10]         295,168\n",
      "        MaxPool2d-14            [-1, 256, 5, 5]               0\n",
      "             ReLU-15            [-1, 256, 5, 5]               0\n",
      "      BatchNorm2d-16            [-1, 256, 5, 5]             512\n",
      "           Conv2d-17            [-1, 512, 7, 7]       1,180,160\n",
      "        MaxPool2d-18            [-1, 512, 3, 3]               0\n",
      "             ReLU-19            [-1, 512, 3, 3]               0\n",
      "          Flatten-20                  [-1, 512]               0\n",
      "           Linear-21                  [-1, 256]         131,328\n",
      "             ReLU-22                  [-1, 256]               0\n",
      "           Linear-23                    [-1, 1]             257\n",
      "          Sigmoid-24                    [-1, 1]               0\n",
      "================================================================\n",
      "Total params: 1,700,545\n",
      "Trainable params: 1,700,545\n",
      "Non-trainable params: 0\n",
      "----------------------------------------------------------------\n",
      "Input size (MB): 0.01\n",
      "Forward/backward pass size (MB): 2.87\n",
      "Params size (MB): 6.49\n",
      "Estimated Total Size (MB): 9.37\n",
      "----------------------------------------------------------------\n"
     ]
    }
   ],
   "source": [
    "# init neural network\n",
    "net = Net()\n",
    "print(net)\n",
    "summary(net, (1, 50,50))"
   ]
  },
  {
   "cell_type": "markdown",
   "id": "0c468587",
   "metadata": {},
   "source": [
    "Training"
   ]
  },
  {
   "cell_type": "code",
   "execution_count": 10,
   "id": "b7776090",
   "metadata": {},
   "outputs": [],
   "source": [
    "# define optimizer and loss function\n",
    "optimizer = optim.Adam(net.parameters(), lr=0.0025)\n",
    "loss_function = nn.MSELoss()"
   ]
  },
  {
   "cell_type": "code",
   "execution_count": 13,
   "id": "bcb6c2c0",
   "metadata": {},
   "outputs": [
    {
     "name": "stderr",
     "output_type": "stream",
     "text": [
      "100%|█████████████████████████████████████████| 217/217 [04:27<00:00,  1.23s/it]\n"
     ]
    },
    {
     "name": "stdout",
     "output_type": "stream",
     "text": [
      "accuracy: 71.16%\n",
      "epoch: 1 loss: 41.18654044345021\n"
     ]
    },
    {
     "name": "stderr",
     "output_type": "stream",
     "text": [
      "100%|█████████████████████████████████████████| 217/217 [04:40<00:00,  1.29s/it]\n"
     ]
    },
    {
     "name": "stdout",
     "output_type": "stream",
     "text": [
      "accuracy: 77.17%\n",
      "epoch: 2 loss: 34.5058306902647\n"
     ]
    },
    {
     "name": "stderr",
     "output_type": "stream",
     "text": [
      "100%|█████████████████████████████████████████| 217/217 [04:38<00:00,  1.28s/it]\n"
     ]
    },
    {
     "name": "stdout",
     "output_type": "stream",
     "text": [
      "accuracy: 78.87%\n",
      "epoch: 3 loss: 32.004312101751566\n"
     ]
    },
    {
     "name": "stderr",
     "output_type": "stream",
     "text": [
      "100%|█████████████████████████████████████████| 217/217 [04:35<00:00,  1.27s/it]\n"
     ]
    },
    {
     "name": "stdout",
     "output_type": "stream",
     "text": [
      "accuracy: 80.52%\n",
      "epoch: 4 loss: 29.949683915823698\n"
     ]
    },
    {
     "name": "stderr",
     "output_type": "stream",
     "text": [
      "100%|█████████████████████████████████████████| 217/217 [04:33<00:00,  1.26s/it]\n"
     ]
    },
    {
     "name": "stdout",
     "output_type": "stream",
     "text": [
      "accuracy: 81.46%\n",
      "epoch: 5 loss: 28.351133581250906\n"
     ]
    },
    {
     "name": "stderr",
     "output_type": "stream",
     "text": [
      "100%|█████████████████████████████████████████| 217/217 [04:32<00:00,  1.26s/it]\n"
     ]
    },
    {
     "name": "stdout",
     "output_type": "stream",
     "text": [
      "accuracy: 83.91%\n",
      "epoch: 6 loss: 25.34126214683056\n"
     ]
    },
    {
     "name": "stderr",
     "output_type": "stream",
     "text": [
      "100%|█████████████████████████████████████████| 217/217 [04:36<00:00,  1.27s/it]\n"
     ]
    },
    {
     "name": "stdout",
     "output_type": "stream",
     "text": [
      "accuracy: 84.41%\n",
      "epoch: 7 loss: 23.965687615796924\n"
     ]
    },
    {
     "name": "stderr",
     "output_type": "stream",
     "text": [
      "100%|█████████████████████████████████████████| 217/217 [04:38<00:00,  1.28s/it]\n"
     ]
    },
    {
     "name": "stdout",
     "output_type": "stream",
     "text": [
      "accuracy: 86.34%\n",
      "epoch: 8 loss: 21.685598455369473\n"
     ]
    },
    {
     "name": "stderr",
     "output_type": "stream",
     "text": [
      "100%|█████████████████████████████████████████| 217/217 [04:28<00:00,  1.24s/it]\n"
     ]
    },
    {
     "name": "stdout",
     "output_type": "stream",
     "text": [
      "accuracy: 88.00%\n",
      "epoch: 9 loss: 18.876355497166514\n"
     ]
    },
    {
     "name": "stderr",
     "output_type": "stream",
     "text": [
      "100%|█████████████████████████████████████████| 217/217 [04:34<00:00,  1.26s/it]\n"
     ]
    },
    {
     "name": "stdout",
     "output_type": "stream",
     "text": [
      "accuracy: 89.20%\n",
      "epoch: 10 loss: 17.872485834173858\n"
     ]
    },
    {
     "name": "stderr",
     "output_type": "stream",
     "text": [
      "100%|█████████████████████████████████████████| 217/217 [04:26<00:00,  1.23s/it]\n"
     ]
    },
    {
     "name": "stdout",
     "output_type": "stream",
     "text": [
      "accuracy: 90.59%\n",
      "epoch: 11 loss: 15.44040494877845\n"
     ]
    },
    {
     "name": "stderr",
     "output_type": "stream",
     "text": [
      "100%|█████████████████████████████████████████| 217/217 [04:22<00:00,  1.21s/it]\n"
     ]
    },
    {
     "name": "stdout",
     "output_type": "stream",
     "text": [
      "accuracy: 91.83%\n",
      "epoch: 12 loss: 13.735944310668856\n"
     ]
    },
    {
     "name": "stderr",
     "output_type": "stream",
     "text": [
      "100%|█████████████████████████████████████████| 217/217 [04:28<00:00,  1.24s/it]\n"
     ]
    },
    {
     "name": "stdout",
     "output_type": "stream",
     "text": [
      "accuracy: 92.21%\n",
      "epoch: 13 loss: 12.579221100080758\n"
     ]
    },
    {
     "name": "stderr",
     "output_type": "stream",
     "text": [
      "100%|█████████████████████████████████████████| 217/217 [04:23<00:00,  1.22s/it]\n"
     ]
    },
    {
     "name": "stdout",
     "output_type": "stream",
     "text": [
      "accuracy: 94.31%\n",
      "epoch: 14 loss: 9.736695016734302\n"
     ]
    },
    {
     "name": "stderr",
     "output_type": "stream",
     "text": [
      "100%|█████████████████████████████████████████| 217/217 [04:25<00:00,  1.23s/it]\n"
     ]
    },
    {
     "name": "stdout",
     "output_type": "stream",
     "text": [
      "accuracy: 94.48%\n",
      "epoch: 15 loss: 8.946463817323092\n"
     ]
    },
    {
     "name": "stderr",
     "output_type": "stream",
     "text": [
      "100%|█████████████████████████████████████████| 217/217 [04:25<00:00,  1.22s/it]\n"
     ]
    },
    {
     "name": "stdout",
     "output_type": "stream",
     "text": [
      "accuracy: 95.62%\n",
      "epoch: 16 loss: 7.500586459507758\n"
     ]
    },
    {
     "name": "stderr",
     "output_type": "stream",
     "text": [
      "100%|█████████████████████████████████████████| 217/217 [04:28<00:00,  1.24s/it]\n"
     ]
    },
    {
     "name": "stdout",
     "output_type": "stream",
     "text": [
      "accuracy: 96.13%\n",
      "epoch: 17 loss: 6.452352021617116\n"
     ]
    },
    {
     "name": "stderr",
     "output_type": "stream",
     "text": [
      "100%|█████████████████████████████████████████| 217/217 [04:30<00:00,  1.25s/it]\n"
     ]
    },
    {
     "name": "stdout",
     "output_type": "stream",
     "text": [
      "accuracy: 96.60%\n",
      "epoch: 18 loss: 6.084111893738736\n"
     ]
    },
    {
     "name": "stderr",
     "output_type": "stream",
     "text": [
      "100%|█████████████████████████████████████████| 217/217 [04:22<00:00,  1.21s/it]\n"
     ]
    },
    {
     "name": "stdout",
     "output_type": "stream",
     "text": [
      "accuracy: 96.85%\n",
      "epoch: 19 loss: 5.521094202682434\n"
     ]
    },
    {
     "name": "stderr",
     "output_type": "stream",
     "text": [
      "100%|█████████████████████████████████████████| 217/217 [04:20<00:00,  1.20s/it]\n"
     ]
    },
    {
     "name": "stdout",
     "output_type": "stream",
     "text": [
      "accuracy: 97.23%\n",
      "epoch: 20 loss: 5.012087630326278\n"
     ]
    },
    {
     "name": "stderr",
     "output_type": "stream",
     "text": [
      "100%|█████████████████████████████████████████| 217/217 [04:20<00:00,  1.20s/it]\n"
     ]
    },
    {
     "name": "stdout",
     "output_type": "stream",
     "text": [
      "accuracy: 97.49%\n",
      "epoch: 21 loss: 4.498722397049278\n"
     ]
    },
    {
     "name": "stderr",
     "output_type": "stream",
     "text": [
      "100%|█████████████████████████████████████████| 217/217 [04:33<00:00,  1.26s/it]\n"
     ]
    },
    {
     "name": "stdout",
     "output_type": "stream",
     "text": [
      "accuracy: 97.44%\n",
      "epoch: 22 loss: 4.63992959324969\n"
     ]
    },
    {
     "name": "stderr",
     "output_type": "stream",
     "text": [
      "100%|█████████████████████████████████████████| 217/217 [04:31<00:00,  1.25s/it]\n"
     ]
    },
    {
     "name": "stdout",
     "output_type": "stream",
     "text": [
      "accuracy: 97.34%\n",
      "epoch: 23 loss: 4.53908746576144\n"
     ]
    },
    {
     "name": "stderr",
     "output_type": "stream",
     "text": [
      "100%|█████████████████████████████████████████| 217/217 [04:34<00:00,  1.27s/it]\n"
     ]
    },
    {
     "name": "stdout",
     "output_type": "stream",
     "text": [
      "accuracy: 97.94%\n",
      "epoch: 24 loss: 3.770326573858256\n"
     ]
    },
    {
     "name": "stderr",
     "output_type": "stream",
     "text": [
      "100%|█████████████████████████████████████████| 217/217 [04:27<00:00,  1.23s/it]"
     ]
    },
    {
     "name": "stdout",
     "output_type": "stream",
     "text": [
      "accuracy: 98.00%\n",
      "epoch: 25 loss: 3.832775866443342\n",
      "done training.\n"
     ]
    },
    {
     "name": "stderr",
     "output_type": "stream",
     "text": [
      "\n"
     ]
    }
   ],
   "source": [
    "epochs = 25\n",
    "\n",
    "#set neural network to training mode\n",
    "net.train()\n",
    "\n",
    "for epoch in range(epochs):\n",
    "    train_loss = 0.0\n",
    "    correct = 0\n",
    "    total = 0\n",
    "    for i, (x, y) in tqdm(enumerate(train_loader), total=len(train_loader)):\n",
    "\n",
    "        # zero gradients to prevent accumulation from previous iterations\n",
    "        optimizer.zero_grad()\n",
    "\n",
    "        # forward pass: compute the output of the neural network\n",
    "        output = net(x).reshape(-1)\n",
    "\n",
    "        # loss between predicted output and label\n",
    "        loss = loss_function(output, y.to(torch.float32))\n",
    "\n",
    "        # backward pass: compute gradients and update the neural network parameters\n",
    "        loss.backward()\n",
    "        optimizer.step()\n",
    "        \n",
    "        # update running loss for current epoch\n",
    "        train_loss += loss.item()\n",
    "        \n",
    "        # count correct predictions for accuracy\n",
    "        predicted = (output > 0.5).float()\n",
    "        correct += (predicted == y).sum().item()\n",
    "        total += y.size(0)\n",
    "        \n",
    "    # calculate accuracy\n",
    "    if total > 0:\n",
    "        accuracy = correct / total\n",
    "\n",
    "    # accuracy and loss    \n",
    "    print(f'accuracy: {accuracy:.2%}')\n",
    "    print(\"epoch:\", (epoch + 1), \"loss:\", (train_loss))\n",
    "\n",
    "print('done training.')"
   ]
  },
  {
   "cell_type": "markdown",
   "id": "d6e96b23",
   "metadata": {},
   "source": [
    "Testing"
   ]
  },
  {
   "cell_type": "code",
   "execution_count": 14,
   "id": "7389532d",
   "metadata": {},
   "outputs": [
    {
     "name": "stderr",
     "output_type": "stream",
     "text": [
      "100%|███████████████████████████████████████████| 55/55 [00:37<00:00,  1.46it/s]\n"
     ]
    },
    {
     "name": "stdout",
     "output_type": "stream",
     "text": [
      "accuracy: 86.35%\n",
      "loss: 6.384865667154372\n"
     ]
    }
   ],
   "source": [
    "# set neural network to evaluation mode\n",
    "net.eval()\n",
    "\n",
    "correct = 0\n",
    "total = 0\n",
    "\n",
    "# init loss\n",
    "test_loss = 0.0\n",
    "\n",
    "# disable gradient computation for evaluation\n",
    "with torch.no_grad():\n",
    "    for i, (x, y) in tqdm(enumerate(test_loader), total=len(test_loader)):\n",
    "        # forward pass: compute the output of the neural network\n",
    "        output = net(x).reshape(-1)\n",
    "        \n",
    "        # threshold of 0.5 to convert output probabilities to binary predictions\n",
    "        predicted = (output > 0.5).float()\n",
    "        \n",
    "        # count correct predictions\n",
    "        correct += (predicted == y).sum().item()\n",
    "        total += y.size(0)\n",
    "        \n",
    "        # record loss\n",
    "        loss = loss_function(output, y.to(torch.float32))\n",
    "        test_loss += loss.item()\n",
    "        \n",
    "# calculate accuracy\n",
    "if total > 0:\n",
    "    accuracy = correct / total\n",
    "\n",
    "print(f'accuracy: {accuracy:.2%}')\n",
    "print(\"loss:\", (test_loss))  "
   ]
  },
  {
   "cell_type": "code",
   "execution_count": 22,
   "id": "b198a054",
   "metadata": {},
   "outputs": [
    {
     "data": {
      "image/png": "[encoded data removed]",
      "text/plain": [
       "<Figure size 640x480 with 1 Axes>"
      ]
     },
     "metadata": {},
     "output_type": "display_data"
    },
    {
     "data": {
      "image/png": "[encoded data removed]",
      "text/plain": [
       "<Figure size 640x480 with 1 Axes>"
      ]
     },
     "metadata": {},
     "output_type": "display_data"
    },
    {
     "data": {
      "image/png": "[encoded data removed]",
      "text/plain": [
       "<Figure size 640x480 with 1 Axes>"
      ]
     },
     "metadata": {},
     "output_type": "display_data"
    },
    {
     "data": {
      "image/png": "[encoded data removed]",
      "text/plain": [
       "<Figure size 640x480 with 1 Axes>"
      ]
     },
     "metadata": {},
     "output_type": "display_data"
    },
    {
     "data": {
      "image/png": "[encoded data removed]",
      "text/plain": [
       "<Figure size 640x480 with 1 Axes>"
      ]
     },
     "metadata": {},
     "output_type": "display_data"
    },
    {
     "data": {
      "image/png": "[encoded data removed]",
      "text/plain": [
       "<Figure size 640x480 with 1 Axes>"
      ]
     },
     "metadata": {},
     "output_type": "display_data"
    },
    {
     "data": {
      "image/png": "[encoded data removed]",
      "text/plain": [
       "<Figure size 640x480 with 1 Axes>"
      ]
     },
     "metadata": {},
     "output_type": "display_data"
    }
   ],
   "source": [
    "# show a batch of images from the test loader with real label and predicted label\n",
    "images, labels = next(iter(test_loader))\n",
    "\n",
    "for i in range(0,7):\n",
    "    plt.imshow(images[i][0])\n",
    "    plt.title(f\"Test Image{i} - Label: {labels[i]}, Predicted Label: {predicted[i]}\")\n",
    "    plt.axis('off')\n",
    "    plt.show()"
   ]
  },
  {
   "cell_type": "markdown",
   "id": "f043e4c7",
   "metadata": {},
   "source": [
    "Save Model"
   ]
  },
  {
   "cell_type": "code",
   "execution_count": 23,
   "id": "b2a47b7b",
   "metadata": {},
   "outputs": [],
   "source": [
    "try:\n",
    "    torch.save(net.state_dict(), 'AIArtClassifier_statedict.pth') # saves as state dict\n",
    "    torch.save(net,'AIArtClassifier_model.pth') # saves entire model\n",
    "except Exception as e:\n",
    "    print(\"error saving model: {e}\")"
   ]
  }
 ],
 "metadata": {
  "kernelspec": {
   "display_name": "Python 3 (ipykernel)",
   "language": "python",
   "name": "python3"
  },
  "language_info": {
   "codemirror_mode": {
    "name": "ipython",
    "version": 3
   },
   "file_extension": ".py",
   "mimetype": "text/x-python",
   "name": "python",
   "nbconvert_exporter": "python",
   "pygments_lexer": "ipython3",
   "version": "3.11.5"
  }
 },
 "nbformat": 4,
 "nbformat_minor": 5
}
